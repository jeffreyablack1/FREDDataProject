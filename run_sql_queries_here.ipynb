{
 "cells": [
  {
   "cell_type": "code",
   "execution_count": 149,
   "metadata": {},
   "outputs": [
    {
     "ename": "ModuleNotFoundError",
     "evalue": "No module named 'config'",
     "output_type": "error",
     "traceback": [
      "\u001b[0;31m---------------------------------------------------------------------------\u001b[0m",
      "\u001b[0;31mModuleNotFoundError\u001b[0m                       Traceback (most recent call last)",
      "Input \u001b[0;32mIn [149]\u001b[0m, in \u001b[0;36m<cell line: 7>\u001b[0;34m()\u001b[0m\n\u001b[1;32m      5\u001b[0m \u001b[38;5;28;01mimport\u001b[39;00m \u001b[38;5;21;01mos\u001b[39;00m\n\u001b[1;32m      6\u001b[0m \u001b[38;5;28;01mfrom\u001b[39;00m \u001b[38;5;21;01mdatetime\u001b[39;00m \u001b[38;5;28;01mimport\u001b[39;00m datetime, timedelta, date\n\u001b[0;32m----> 7\u001b[0m \u001b[38;5;28;01mfrom\u001b[39;00m \u001b[38;5;21;01mconfig\u001b[39;00m \u001b[38;5;28;01mimport\u001b[39;00m FRED_API_KEY\n\u001b[1;32m      9\u001b[0m os\u001b[38;5;241m.\u001b[39menviron[\u001b[38;5;124m'\u001b[39m\u001b[38;5;124mSSL_CERT_FILE\u001b[39m\u001b[38;5;124m'\u001b[39m] \u001b[38;5;241m=\u001b[39m certifi\u001b[38;5;241m.\u001b[39mwhere() \u001b[38;5;66;03m#API Key security requirements\u001b[39;00m\n\u001b[1;32m     10\u001b[0m fred \u001b[38;5;241m=\u001b[39m Fred(api_key\u001b[38;5;241m=\u001b[39mFRED_API_KEY)\n",
      "\u001b[0;31mModuleNotFoundError\u001b[0m: No module named 'config'"
     ]
    }
   ],
   "source": [
    "import duckdb\n",
    "import pandas as pd\n",
    "from fredapi import Fred\n",
    "import certifi\n",
    "import os\n",
    "from datetime import datetime, timedelta, date\n",
    "from config import FRED_API_KEY\n",
    "\n",
    "os.environ['SSL_CERT_FILE'] = certifi.where() #API Key security requirements\n",
    "fred = Fred(api_key=FRED_API_KEY)\n",
    "today_date = date.today().strftime('%Y-%m-%d') #Fetch Date\n",
    "# List of FRED series IDs\n",
    "series_ids = ['GDP', \n",
    "              'GDPC1', \n",
    "              'CORESTICKM159SFRBATL', \n",
    "              'WM2NS', \n",
    "              'UNRATE', \n",
    "              'DFF', \n",
    "              'DGS10', \n",
    "              'PCE', \n",
    "              'INDPRO', \n",
    "              'MRTSSM44000USS',\n",
    "              'PPIACO',\n",
    "              'HOUST']"
   ]
  },
  {
   "cell_type": "code",
   "execution_count": null,
   "metadata": {},
   "outputs": [],
   "source": [
    "sql_query = ''' \n",
    "show tables\n",
    "''' \n",
    "\n",
    "with duckdb.connect('data/fred') as con: \n",
    "    display(con.sql(sql_query).df())"
   ]
  },
  {
   "cell_type": "markdown",
   "metadata": {},
   "source": [
    "#### Data Fetched from the Economic Research Federal Reserve Bank of St. Louis"
   ]
  },
  {
   "cell_type": "code",
   "execution_count": null,
   "metadata": {},
   "outputs": [],
   "source": [
    "def fetch_series_data(series_id, start_date, end_date):\n",
    "    \"\"\"\n",
    "    Fetch series data for a given series ID between start_date and end_date.\n",
    "    \n",
    "    Parameters:\n",
    "    - series_id (str): The FRED series ID.\n",
    "    - start_date (str): The start date for data retrieval.\n",
    "    - end_date (str): The end date for data retrieval.\n",
    "    \n",
    "    Returns:\n",
    "    - pd.Series: The time series data.\n",
    "    \"\"\"\n",
    "    try:\n",
    "        series_data = fred.get_series(series_id, observation_start=start_date, observation_end=end_date)\n",
    "        return series_data\n",
    "    except Exception as e:\n",
    "        print(f\"Error fetching series data for {series_id}: {e}\")\n",
    "        return pd.Series([])\n",
    "\n",
    "def fetch_metadata(series_id):\n",
    "    \"\"\"\n",
    "    Fetch metadata for a given series ID.\n",
    "    \n",
    "    Parameters:\n",
    "    - series_id (str): The FRED series ID.\n",
    "    \n",
    "    Returns:\n",
    "    - dict: The metadata for the series.\n",
    "    \"\"\"\n",
    "    try:\n",
    "        metadata = fred.get_series_info(series_id)\n",
    "        return metadata\n",
    "    except Exception as e:\n",
    "        print(f\"Error fetching metadata for {series_id}: {e}\")\n",
    "        return {}\n",
    "\n",
    "def construct_dataframe(series_data, metadata, series_id, fetch_date):\n",
    "    \"\"\"\n",
    "    Construct a DataFrame from series data and metadata.\n",
    "    \n",
    "    Parameters:\n",
    "    - series_data (pd.Series): The time series data.\n",
    "    - metadata (dict): The metadata for the series.\n",
    "    - series_id (str): The FRED series ID.\n",
    "    - fetch_date (str): The date when the data was fetched.\n",
    "    \n",
    "    Returns:\n",
    "    - pd.DataFrame: The constructed DataFrame with data and metadata.\n",
    "    \"\"\"\n",
    "    try:\n",
    "        df = pd.DataFrame(series_data, columns=['Index']).reset_index().rename(columns={'index': 'Date'})\n",
    "        df['Name'] = metadata.get('title', '')\n",
    "        df['SeriesID'] = series_id\n",
    "        df['Source'] = f'https://fred.stlouisfed.org/series/{series_id}'\n",
    "        df['Units'] = metadata.get('units', '')\n",
    "        df['SeasonalAdjustment'] = metadata.get('seasonal_adjustment', '')\n",
    "        df['Frequency'] = metadata.get('frequency', '')\n",
    "        df['FREDLastUpdatedDate'] = metadata.get('last_updated', '')\n",
    "        df['FetchDate'] = fetch_date\n",
    "        return df\n",
    "    except Exception as e:\n",
    "        print(f\"Error constructing dataframe for {series_id}: {e}\")\n",
    "        return pd.DataFrame()\n",
    "\n",
    "def fetch_fred_data(series_ids):\n",
    "    \"\"\"\n",
    "    Fetch data and metadata for a list of FRED series IDs.\n",
    "    \n",
    "    Parameters:\n",
    "    - series_ids (list of str): The FRED series IDs.\n",
    "    \n",
    "    Returns:\n",
    "    - list of pd.DataFrame: A list of DataFrames with data and metadata for each series.\n",
    "    \"\"\"\n",
    "    today_date = date.today().strftime('%Y-%m-%d')\n",
    "    twenty_years_ago = (date.today() - timedelta(days=20*365)).strftime('%Y-%m-%d')\n",
    "    dataframes = []\n",
    "    \n",
    "    for series_id in series_ids:\n",
    "        series_data = fetch_series_data(series_id, twenty_years_ago, today_date)\n",
    "        if series_data.empty:\n",
    "            continue\n",
    "        metadata = fetch_metadata(series_id)\n",
    "        df = construct_dataframe(series_data, metadata, series_id, today_date)\n",
    "        dataframes.append(df)\n",
    "    \n",
    "    return dataframes\n"
   ]
  },
  {
   "cell_type": "code",
   "execution_count": null,
   "metadata": {},
   "outputs": [],
   "source": [
    "# Fetch data\n",
    "dataframes = fetch_fred_data(series_ids)"
   ]
  },
  {
   "cell_type": "code",
   "execution_count": null,
   "metadata": {},
   "outputs": [],
   "source": [
    "# Display the fetched DataFrames\n",
    "for df in dataframes:\n",
    "    display(df)"
   ]
  },
  {
   "cell_type": "code",
   "execution_count": null,
   "metadata": {},
   "outputs": [],
   "source": []
  }
 ],
 "metadata": {
  "kernelspec": {
   "display_name": "pfizer_dbt_venv",
   "language": "python",
   "name": "python3"
  },
  "language_info": {
   "codemirror_mode": {
    "name": "ipython",
    "version": 3
   },
   "file_extension": ".py",
   "mimetype": "text/x-python",
   "name": "python",
   "nbconvert_exporter": "python",
   "pygments_lexer": "ipython3",
   "version": "3.9.0"
  }
 },
 "nbformat": 4,
 "nbformat_minor": 2
}
